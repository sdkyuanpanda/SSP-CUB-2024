{
 "cells": [
  {
   "cell_type": "code",
   "execution_count": 1,
   "id": "fa056f45",
   "metadata": {},
   "outputs": [],
   "source": [
    "import numpy as np\n",
    "import helper_od_yuan as helper\n",
    "import od_lib_yuan as od\n",
    "import csv"
   ]
  },
  {
   "cell_type": "code",
   "execution_count": 2,
   "id": "eecd1700",
   "metadata": {},
   "outputs": [],
   "source": [
    "filename = \"YuanInput.txt\""
   ]
  },
  {
   "cell_type": "code",
   "execution_count": 3,
   "id": "7ee4c88c",
   "metadata": {},
   "outputs": [],
   "source": [
    "time_arr, horizon_pos_arr, horizon_vel_arr = helper.parse_horizon_vec_table_txt(filename)\n",
    "index = helper.get_jpl_horizon_time_index(time_arr)\n",
    "position = np.array(horizon_pos_arr[index])\n",
    "velocity = helper.vel_arr_to_gaussian(horizon_vel_arr[index])\n",
    "time = time_arr[index][0]"
   ]
  },
  {
   "cell_type": "code",
   "execution_count": 4,
   "id": "7c4a2536",
   "metadata": {},
   "outputs": [],
   "source": [
    "asteroid_68950_od = od.OrbitalDetermination(position, velocity, time)\n",
    "asteroid_68950_elements = asteroid_68950_od.get_orbital_elements(use_radians = False)\n",
    "# (a, e, i, Omega, omega, M, T)"
   ]
  },
  {
   "cell_type": "code",
   "execution_count": 6,
   "id": "47826e30",
   "metadata": {},
   "outputs": [
    {
     "name": "stdout",
     "output_type": "stream",
     "text": [
      "1: Element a || Rel Diff: 0.008% || Abs Diff: 0.008\n",
      "2: Element e || Rel Diff: 0.014% || Abs Diff: 0.005\n",
      "3: Element i || Rel Diff: 0.006% || Abs Diff: 0.149\n",
      "4: Element Ω || Rel Diff: 0.005% || Abs Diff: 1.227\n",
      "5: Element ω || Rel Diff: 0.011% || Abs Diff: 2.7\n",
      "6: Element M || Rel Diff: 0.081% || Abs Diff: 11.342\n",
      "7: Element T || Rel Diff: 0.018% || Abs Diff: 5.28\n"
     ]
    }
   ],
   "source": [
    "PERIOD = 396.8146230750213\n",
    "true_values = [1.05671892483881, 0.3442798363212599, 25.15375982051783, 236.2502480179119, 255.5316184725226, 140.5328747328064, 2457365.1444051042]\n",
    "keys = [\"a\", \"e\", \"i\", \"Ω\", \"ω\", \"M\", \"T\"]\n",
    "helper.usr_orbit_element_errors(asteroid_68950_elements, true_values, keys)"
   ]
  },
  {
   "cell_type": "code",
   "execution_count": null,
   "id": "2f08cebf",
   "metadata": {},
   "outputs": [],
   "source": []
  }
 ],
 "metadata": {
  "kernelspec": {
   "display_name": "Python 3 (ipykernel)",
   "language": "python",
   "name": "python3"
  },
  "language_info": {
   "codemirror_mode": {
    "name": "ipython",
    "version": 3
   },
   "file_extension": ".py",
   "mimetype": "text/x-python",
   "name": "python",
   "nbconvert_exporter": "python",
   "pygments_lexer": "ipython3",
   "version": "3.9.15"
  }
 },
 "nbformat": 4,
 "nbformat_minor": 5
}
