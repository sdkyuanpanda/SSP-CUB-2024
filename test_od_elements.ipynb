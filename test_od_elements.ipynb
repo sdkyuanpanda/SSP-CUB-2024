{
 "cells": [
  {
   "cell_type": "code",
   "execution_count": 1,
   "id": "fa056f45",
   "metadata": {},
   "outputs": [],
   "source": [
    "import numpy as np\n",
    "import helper_od_yuan as helper\n",
    "import od_lib_yuan as od\n",
    "import csv"
   ]
  },
  {
   "cell_type": "code",
   "execution_count": 2,
   "id": "eecd1700",
   "metadata": {},
   "outputs": [],
   "source": [
    "filename = \"YuanInput.txt\""
   ]
  },
  {
   "cell_type": "code",
   "execution_count": 3,
   "id": "7ee4c88c",
   "metadata": {},
   "outputs": [],
   "source": [
    "time_arr, horizon_pos_arr, horizon_vel_arr = helper.parse_horizon_vec_table_txt(filename)\n",
    "index = helper.get_jpl_horizon_time_index(time_arr)\n",
    "position = np.array(horizon_pos_arr[index])\n",
    "velocity = helper.vel_arr_to_gaussian(horizon_vel_arr[index])\n",
    "time = time_arr[index][0]"
   ]
  },
  {
   "cell_type": "code",
   "execution_count": 4,
   "id": "7c4a2536",
   "metadata": {},
   "outputs": [],
   "source": [
    "asteroid_68950_od = od.OrbitalDetermination(position, velocity, time)\n",
    "asteroid_68950_elements = asteroid_68950_od.get_orbital_elements(use_radians = True)\n",
    "# (a, e, i, Omega, omega, M, T)"
   ]
  },
  {
   "cell_type": "code",
   "execution_count": 5,
   "id": "47826e30",
   "metadata": {},
   "outputs": [],
   "source": [
    "PERIOD = 396.8146230750213\n",
    "true_values = [1.05671892483881, 0.3442798363212599, 25.15375982051783, 236.2502480179119, 255.5316184725226, 140.5328747328064, 2457365.1444051042]\n",
    "keys = [\"a\", \"e\", \"i\", \"Ω\", \"ω\", \"M\", \"T\"]\n",
    "# helper.usr_orbit_element_errors(asteroid_68950_elements, true_values, keys)"
   ]
  },
  {
   "cell_type": "code",
   "execution_count": 6,
   "id": "55e0089a",
   "metadata": {},
   "outputs": [],
   "source": [
    "a, e, i, big_omega, small_omega, _, T = asteroid_68950_elements\n",
    "earth_sun_vector = np.array(\n",
    "    [-6.57371e-01, 7.09258e-01, 3.0743e-01]\n",
    ")\n",
    "new_time = 2458333.5"
   ]
  },
  {
   "cell_type": "code",
   "execution_count": 7,
   "id": "2f08cebf",
   "metadata": {},
   "outputs": [],
   "source": [
    "asteroid_68950_ephemeris = od.EphemerisGeneration(a, e, i, big_omega, small_omega, T, earth_sun_vector, new_time)\n",
    "asteroid_68950_ephemeris_data = asteroid_68950_ephemeris.get_ra_dec(use_radians = False)"
   ]
  },
  {
   "cell_type": "code",
   "execution_count": 8,
   "id": "13ceb4c3",
   "metadata": {},
   "outputs": [
    {
     "name": "stdout",
     "output_type": "stream",
     "text": [
      "[265.59220026  31.87624333]\n"
     ]
    }
   ],
   "source": [
    "print(asteroid_68950_ephemeris_data)"
   ]
  },
  {
   "cell_type": "code",
   "execution_count": 9,
   "id": "c1fe3791",
   "metadata": {},
   "outputs": [
    {
     "name": "stdout",
     "output_type": "stream",
     "text": [
      "(17, 42, 22.128062539818245)\n",
      "(31, 52, 34.475989216209086)\n"
     ]
    }
   ],
   "source": [
    "print(helper.ra_deg_to_hms(asteroid_68950_ephemeris_data[0]))\n",
    "print(helper.dec_deg_to_dms(asteroid_68950_ephemeris_data[1]))"
   ]
  },
  {
   "cell_type": "code",
   "execution_count": null,
   "id": "5f81a06b",
   "metadata": {},
   "outputs": [],
   "source": [
    "# 17 42 20.42 +31 52 31.3\n"
   ]
  },
  {
   "cell_type": "code",
   "execution_count": null,
   "id": "3731fa58",
   "metadata": {},
   "outputs": [],
   "source": [
    "from astroquery.jplhorizons import Horizons\n",
    "sun = Horizons(id = \"@sun\", location = \"399\")\n"
   ]
  },
  {
   "cell_type": "code",
   "execution_count": null,
   "id": "5f7e211c",
   "metadata": {},
   "outputs": [],
   "source": [
    "\n",
    "#17 42 20.42 +31 52 31.3"
   ]
  }
 ],
 "metadata": {
  "kernelspec": {
   "display_name": "Python 3 (ipykernel)",
   "language": "python",
   "name": "python3"
  },
  "language_info": {
   "codemirror_mode": {
    "name": "ipython",
    "version": 3
   },
   "file_extension": ".py",
   "mimetype": "text/x-python",
   "name": "python",
   "nbconvert_exporter": "python",
   "pygments_lexer": "ipython3",
   "version": "3.9.15"
  }
 },
 "nbformat": 4,
 "nbformat_minor": 5
}
