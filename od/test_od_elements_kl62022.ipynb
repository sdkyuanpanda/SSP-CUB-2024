{
 "cells": [
  {
   "cell_type": "code",
   "execution_count": 1,
   "id": "fa056f45",
   "metadata": {},
   "outputs": [],
   "source": [
    "import numpy as np\n",
    "import helper_od_yuan as helper\n",
    "import od_lib_yuan as od\n",
    "import csv"
   ]
  },
  {
   "cell_type": "code",
   "execution_count": 2,
   "id": "45b6cb47",
   "metadata": {},
   "outputs": [],
   "source": [
    "\"\"\"\n",
    "\n",
    "t1: 2460118.708333333 = A.D. 2023-Jun-23 05:00:00.0000 TDB \n",
    "R1: X = -2.112490042442325E-02 Y = 9.323243076024456E-01 Z = 4.041173475275137E-01\n",
    "t2: 2460125.708333333 = A.D. 2023-Jun-30 05:00:00.0000 TDB \n",
    "R2: X = -1.391482133320911E-01 Y = 9.239895929637317E-01 Z = 4.005002424542735E-01\n",
    "t3: 2460132.708333333 = A.D. 2023-Jul-07 05:00:00.0000 TDB \n",
    "R3:  X = -2.552179930127938E-01 Y = 9.029675065304688E-01 Z = 3.913862959375257E-01\n",
    "RA1: 15 48 6.22 DEC1: -2 46 44.3  \n",
    "RA2: 15 50 18.27 DEC2: +1 12 55.0  \n",
    "RA3: 15 57 23.59 DEC3: +6 7 24.6 \n",
    "\n",
    "\"\"\"\n",
    "\n",
    "RA1 = helper.ra_to_deg(15, 48, 6.22, True)\n",
    "RA2 = helper.ra_to_deg(15, 50, 18.27, True)\n",
    "RA3 = helper.ra_to_deg(15, 57, 23.59, True)\n",
    "\n",
    "DEC1 = helper.dec_dms_to_deg(-2, 46, 44.3) * np.pi/180\n",
    "DEC2 = helper.dec_dms_to_deg(1, 12, 55.0) * np.pi/180\n",
    "DEC3 = helper.dec_dms_to_deg(6, 7, 24.6) * np.pi/180"
   ]
  },
  {
   "cell_type": "code",
   "execution_count": 3,
   "id": "28f83d21",
   "metadata": {},
   "outputs": [],
   "source": [
    "RA_vec = np.array([RA1, RA2, RA3])\n",
    "DEC_vec = np.array([DEC1, DEC2, DEC3])\n",
    "times = np.array([2460118.708333333, 2460125.708333333, 2460132.708333333])\n",
    "sun_vectors = np.array([None])"
   ]
  },
  {
   "cell_type": "code",
   "execution_count": 4,
   "id": "2ec513bd",
   "metadata": {},
   "outputs": [],
   "source": [
    "kl62022_vecs = od.GaussMethod(RA_vec, DEC_vec, times, sun_vectors)"
   ]
  },
  {
   "cell_type": "code",
   "execution_count": 5,
   "id": "28b71b09",
   "metadata": {},
   "outputs": [],
   "source": [
    "# -2.112490042442325E-02 Y = 9.323243076024456E-01 Z = 4.041173475275137E-01"
   ]
  },
  {
   "cell_type": "code",
   "execution_count": 6,
   "id": "5d8d60d1",
   "metadata": {
    "scrolled": false
   },
   "outputs": [],
   "source": [
    "position_vec, velocity_vec = kl62022_vecs.get_position_and_velocity()"
   ]
  },
  {
   "cell_type": "code",
   "execution_count": 7,
   "id": "ad9c0fc6",
   "metadata": {},
   "outputs": [
    {
     "name": "stdout",
     "output_type": "stream",
     "text": [
      "[ 0.05608793 -1.12572101  0.0550534 ]\n"
     ]
    }
   ],
   "source": [
    "print(position_vec)"
   ]
  },
  {
   "cell_type": "code",
   "execution_count": 8,
   "id": "d618c2de",
   "metadata": {},
   "outputs": [
    {
     "name": "stdout",
     "output_type": "stream",
     "text": [
      "[1.11004242 0.32535932 0.01903922]\n"
     ]
    }
   ],
   "source": [
    "print(velocity_vec)"
   ]
  },
  {
   "cell_type": "code",
   "execution_count": 9,
   "id": "a28700f3",
   "metadata": {},
   "outputs": [],
   "source": [
    "kl62022_od = od.OrbitalDetermination(position_vec, velocity_vec, times[1])\n",
    "kl62022_elements = kl62022_od.get_orbital_elements(use_radians = True)\n",
    "# (a, e, i, Omega, omega, M, T)"
   ]
  },
  {
   "cell_type": "code",
   "execution_count": 10,
   "id": "db3a42ab",
   "metadata": {},
   "outputs": [],
   "source": [
    "a, e, i, big_omega, small_omega, _, T = kl62022_elements"
   ]
  },
  {
   "cell_type": "code",
   "execution_count": 15,
   "id": "7fc9ccea",
   "metadata": {},
   "outputs": [],
   "source": [
    "kl62022_ephemeris = od.EphemerisGeneration(a, e, i, big_omega, small_omega, T, sun_vectors, times[2])\n",
    "kl62022_ephemeris_data = kl62022_ephemeris.get_ra_dec(use_radians = True)"
   ]
  },
  {
   "cell_type": "code",
   "execution_count": 16,
   "id": "bf14038e",
   "metadata": {},
   "outputs": [
    {
     "name": "stdout",
     "output_type": "stream",
     "text": [
      "[4.17740628 0.10686774]\n"
     ]
    }
   ],
   "source": [
    "print(kl62022_ephemeris_data)"
   ]
  },
  {
   "cell_type": "code",
   "execution_count": 17,
   "id": "a26bc4c9",
   "metadata": {},
   "outputs": [
    {
     "name": "stdout",
     "output_type": "stream",
     "text": [
      "4.177415748607039 0.10687523674587276\n"
     ]
    }
   ],
   "source": [
    "print(RA3, DEC3)"
   ]
  },
  {
   "cell_type": "code",
   "execution_count": 4,
   "id": "eecd1700",
   "metadata": {},
   "outputs": [],
   "source": [
    "filename = \"YuanInput.txt\""
   ]
  },
  {
   "cell_type": "code",
   "execution_count": 5,
   "id": "7ee4c88c",
   "metadata": {},
   "outputs": [],
   "source": [
    "time_arr, horizon_pos_arr, horizon_vel_arr = helper.parse_horizon_vec_table_txt(filename)\n",
    "index = helper.get_jpl_horizon_time_index(time_arr)\n",
    "position = np.array(horizon_pos_arr[index])\n",
    "velocity = helper.vel_arr_to_gaussian(horizon_vel_arr[index])\n",
    "time = time_arr[index][0]"
   ]
  },
  {
   "cell_type": "code",
   "execution_count": 6,
   "id": "7c4a2536",
   "metadata": {},
   "outputs": [],
   "source": [
    "asteroid_68950_od = od.OrbitalDetermination(position, velocity, time)\n",
    "asteroid_68950_elements = asteroid_68950_od.get_orbital_elements(use_radians = True)\n",
    "# (a, e, i, Omega, omega, M, T)"
   ]
  },
  {
   "cell_type": "code",
   "execution_count": 7,
   "id": "47826e30",
   "metadata": {},
   "outputs": [],
   "source": [
    "PERIOD = 396.8146230750213\n",
    "true_values = [1.05671892483881, 0.3442798363212599, 25.15375982051783, 236.2502480179119, 255.5316184725226, 140.5328747328064, 2457365.1444051042]\n",
    "keys = [\"a\", \"e\", \"i\", \"Ω\", \"ω\", \"M\", \"T\"]\n",
    "# helper.usr_orbit_element_errors(asteroid_68950_elements, true_values, keys)"
   ]
  },
  {
   "cell_type": "code",
   "execution_count": 8,
   "id": "55e0089a",
   "metadata": {},
   "outputs": [],
   "source": [
    "a, e, i, big_omega, small_omega, _, T = asteroid_68950_elements\n",
    "earth_sun_vector = np.array(\n",
    "    [-6.57371e-01, 7.09258e-01, 3.0743e-01]\n",
    ")\n",
    "new_time = 2458333.5"
   ]
  },
  {
   "cell_type": "code",
   "execution_count": 13,
   "id": "63a7ac18",
   "metadata": {},
   "outputs": [
    {
     "name": "stdout",
     "output_type": "stream",
     "text": [
      "[-0.65739813  0.70921356  0.30742985]\n"
     ]
    }
   ],
   "source": [
    "x = helper.get_sun_earth_vector(2458333.5)\n",
    "print(x)\n",
    "earth_sun_vector = np.array(x)"
   ]
  },
  {
   "cell_type": "code",
   "execution_count": 14,
   "id": "2f08cebf",
   "metadata": {},
   "outputs": [],
   "source": [
    "asteroid_68950_ephemeris = od.EphemerisGeneration(a, e, i, big_omega, small_omega, T, earth_sun_vector, new_time)\n",
    "asteroid_68950_ephemeris_data = asteroid_68950_ephemeris.get_ra_dec(use_radians = False)"
   ]
  },
  {
   "cell_type": "code",
   "execution_count": 15,
   "id": "13ceb4c3",
   "metadata": {},
   "outputs": [
    {
     "name": "stdout",
     "output_type": "stream",
     "text": [
      "[265.58976878  31.87409164]\n"
     ]
    }
   ],
   "source": [
    "print(asteroid_68950_ephemeris_data)"
   ]
  },
  {
   "cell_type": "code",
   "execution_count": 16,
   "id": "c1fe3791",
   "metadata": {},
   "outputs": [
    {
     "name": "stdout",
     "output_type": "stream",
     "text": [
      "(17, 42, 21.544507957101473)\n",
      "(31, 52, 26.72990026496393)\n"
     ]
    }
   ],
   "source": [
    "print(helper.ra_deg_to_hms(asteroid_68950_ephemeris_data[0]))\n",
    "print(helper.dec_deg_to_dms(asteroid_68950_ephemeris_data[1]))"
   ]
  },
  {
   "cell_type": "code",
   "execution_count": 17,
   "id": "5fc1f4f0",
   "metadata": {},
   "outputs": [],
   "source": [
    "# 2021 06 25 00:00:00.000 18:25:08.44 -17:26:41.3 -5.985728598861461E-02\n",
    "# 9.309676159065817E-01 4.035414693476737E-01\n",
    "# 2021 07 05 00:00:00.000 18:15:28.85 -16:27:16.5 -2.271502585826002E-01\n",
    "# 9.092709064712199E-01 3.941342306093848E-01\n",
    "# 2021 07 15 00:00:00.000 18:05:40.89 -15:30:48.9 -3.881336047533506E-01\n",
    "# 8.619617590425438E-01 3.736284118981542E-01"
   ]
  },
  {
   "cell_type": "code",
   "execution_count": 8,
   "id": "dd881dfb",
   "metadata": {},
   "outputs": [],
   "source": [
    "RA = []\n",
    "RA.append(helper.ra_to_deg(18,25,08.44, True))\n",
    "RA.append(helper.ra_to_deg(18,15,28.85, True))\n",
    "RA.append(helper.ra_to_deg(18,5,40.89, True))\n",
    "DEC = []\n",
    "DEC.append(helper.dec_dms_to_deg(-17,26,41.3))\n",
    "DEC.append(helper.dec_dms_to_deg(-16,27,16.5))\n",
    "DEC.append(helper.dec_dms_to_deg(-15,30,48.9))\n",
    "DEC = [np.radians(x) for x in DEC]"
   ]
  },
  {
   "cell_type": "code",
   "execution_count": 9,
   "id": "83bf1dcf",
   "metadata": {},
   "outputs": [
    {
     "name": "stdout",
     "output_type": "stream",
     "text": [
      "[4.82208583275462, 4.779936858539479, 4.737179200747704]\n",
      "[-0.304469294314643, -0.28718665621045025, -0.2707631079491836]\n"
     ]
    }
   ],
   "source": [
    "print(RA)\n",
    "print(DEC)"
   ]
  },
  {
   "cell_type": "code",
   "execution_count": 10,
   "id": "9c9d008d",
   "metadata": {},
   "outputs": [],
   "source": [
    "RA = np.array(RA)\n",
    "DEC = np.array(DEC)\n",
    "time = np.array([1, 1, 1])"
   ]
  },
  {
   "cell_type": "code",
   "execution_count": 11,
   "id": "be5391ce",
   "metadata": {},
   "outputs": [],
   "source": [
    "sun_vectors = np.array([\n",
    "    [-5.985728598861461E-02, 9.309676159065817E-01, 4.035414693476737E-01],\n",
    "    [-2.271502585826002E-01, 9.092709064712199E-01, 3.941342306093848E-01],\n",
    "    [-3.881336047533506E-01, 8.619617590425438E-01, 3.736284118981542E-01]\n",
    "])"
   ]
  },
  {
   "cell_type": "code",
   "execution_count": 12,
   "id": "feb9c734",
   "metadata": {},
   "outputs": [],
   "source": [
    "test_get_d_values = od.GaussMethod(RA, DEC, time, sun_vectors)"
   ]
  },
  {
   "cell_type": "code",
   "execution_count": 13,
   "id": "d2e80154",
   "metadata": {},
   "outputs": [
    {
     "name": "stdout",
     "output_type": "stream",
     "text": [
      "[ 7.15307297e-05 -5.10695903e-03 -2.13297825e-03  9.02451104e-04\n",
      "  1.00147472e-02  3.85265590e-03 -2.42080934e-03 -4.98976129e-03\n",
      " -1.79475963e-03  1.45228462e-03]\n"
     ]
    }
   ],
   "source": [
    "d_values = test_get_d_values.get_d_values()\n",
    "print(d_values)"
   ]
  },
  {
   "cell_type": "code",
   "execution_count": 11,
   "id": "5f81a06b",
   "metadata": {},
   "outputs": [
    {
     "name": "stdout",
     "output_type": "stream",
     "text": [
      "False\n",
      "False\n"
     ]
    }
   ],
   "source": [
    "# 17 42 20.42 +31 52 31.3\n"
   ]
  },
  {
   "cell_type": "code",
   "execution_count": null,
   "id": "3731fa58",
   "metadata": {},
   "outputs": [],
   "source": [
    "from astroquery.jplhorizons import Horizons\n",
    "sun = Horizons(id = \"@sun\", location = \"399\")\n"
   ]
  },
  {
   "cell_type": "code",
   "execution_count": null,
   "id": "5f7e211c",
   "metadata": {},
   "outputs": [],
   "source": [
    "\n",
    "#17 42 20.42 +31 52 31.3"
   ]
  }
 ],
 "metadata": {
  "kernelspec": {
   "display_name": "Python 3 (ipykernel)",
   "language": "python",
   "name": "python3"
  },
  "language_info": {
   "codemirror_mode": {
    "name": "ipython",
    "version": 3
   },
   "file_extension": ".py",
   "mimetype": "text/x-python",
   "name": "python",
   "nbconvert_exporter": "python",
   "pygments_lexer": "ipython3",
   "version": "3.9.15"
  }
 },
 "nbformat": 4,
 "nbformat_minor": 5
}
